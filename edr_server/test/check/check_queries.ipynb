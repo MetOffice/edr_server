{
 "cells": [
  {
   "cell_type": "markdown",
   "id": "7006adcc-bf92-4b8a-861a-91356d1b4e05",
   "metadata": {},
   "source": [
    "# Check EDR Server Queries\n",
    "\n",
    "Check that all queries supported by the EDR Server are functioning correctly. This is not really a test suite as (a) it's not automated and (b) it's neither complete nor checks error cases. What it does provide is some form of assurance that all expected queries are supported and running properly, and provides a reminder of how to call the different queries supported by the server.\n",
    "\n",
    "## Setup"
   ]
  },
  {
   "cell_type": "code",
   "execution_count": null,
   "id": "75b7d07e-2f65-4b8f-9a31-083a71215398",
   "metadata": {},
   "outputs": [],
   "source": [
    "import json\n",
    "import random\n",
    "\n",
    "import requests\n",
    "from shapely import wkt\n",
    "from shapely.geometry import MultiPoint, Point, Polygon"
   ]
  },
  {
   "cell_type": "code",
   "execution_count": null,
   "id": "c8d60689-2560-44b5-8bbe-3e82cd8634d8",
   "metadata": {},
   "outputs": [],
   "source": [
    "host = \"http://localhost:8808\""
   ]
  },
  {
   "cell_type": "markdown",
   "id": "469c7ac6-947a-4925-bb0f-85d210be5b56",
   "metadata": {},
   "source": [
    "## Checks\n",
    "\n",
    "Now run through all the checks.\n",
    "\n",
    "### Basic connectivity\n",
    "\n",
    "Checks if the server is running. Should return a capabilities response (metadata about the server / host institute)."
   ]
  },
  {
   "cell_type": "code",
   "execution_count": null,
   "id": "917d0012-ae72-4373-9f9c-4eb18cb95df8",
   "metadata": {},
   "outputs": [],
   "source": [
    "requests.get(host).content"
   ]
  },
  {
   "cell_type": "markdown",
   "id": "fe716b85-7be0-44b5-bce8-888792c21749",
   "metadata": {},
   "source": [
    "### Collections\n",
    "\n",
    "Check the get collections request, which should return a JSON response of all the collections served."
   ]
  },
  {
   "cell_type": "code",
   "execution_count": null,
   "id": "f958f081-4db9-4325-9143-095a63944053",
   "metadata": {
    "tags": []
   },
   "outputs": [],
   "source": [
    "query = f\"{host}/collections\"\n",
    "response = requests.get(query).content\n",
    "print(f\"Number of collections: {len(json.loads(response)['collections'])}\\n\")\n",
    "print(response)"
   ]
  },
  {
   "cell_type": "markdown",
   "id": "2638041b-f682-443f-a220-cd79428276f5",
   "metadata": {},
   "source": [
    "### Individual Collection\n",
    "\n",
    "Check we can query an individual collection by retrieving the list of collection IDs from the previous query and requesting one of them at random. This should return a JSON response of a single collection.\n",
    "\n",
    "**Not working!!**"
   ]
  },
  {
   "cell_type": "code",
   "execution_count": null,
   "id": "1a9f0474-0fdc-4f4d-9aad-e382db1d42fb",
   "metadata": {
    "tags": []
   },
   "outputs": [],
   "source": [
    "collection_ids = [c[\"id\"] for c in json.loads(response)['collections']]\n",
    "random_collection_id = collection_ids[random.randint(0, len(collection_ids)-1)]\n",
    "query = f\"{host}/collections/{random_collection_id}\"\n",
    "response = requests.get(query).content\n",
    "\n",
    "print(f\"{collection_ids}\\n\")\n",
    "print(response)"
   ]
  },
  {
   "cell_type": "markdown",
   "id": "b7f5b568-ab80-4372-bff8-685914872e3b",
   "metadata": {},
   "source": [
    "### Locations\n",
    "\n",
    "Check we can query an individual collection for its list of locations. This should return a JSON object of type `FeatureCollection` with one or more locations listed in it."
   ]
  },
  {
   "cell_type": "code",
   "execution_count": null,
   "id": "dae0f270-e5c1-4c28-b481-f571ca368615",
   "metadata": {},
   "outputs": [],
   "source": [
    "query = f\"{host}/collections/00004/locations\"\n",
    "response = requests.get(query).content\n",
    "\n",
    "print(f\"Number of locations: {len(json.loads(response)['features'])}\\n\")\n",
    "print(response)"
   ]
  },
  {
   "cell_type": "markdown",
   "id": "dea47fe2-cd97-49d2-8909-1d21614eff95",
   "metadata": {},
   "source": [
    "### Individual Location\n",
    "\n",
    "Check we can query an individual location in a collection. The response should be a JSON object of type `Domain` containing metadata for an individual location."
   ]
  },
  {
   "cell_type": "code",
   "execution_count": null,
   "id": "21becee5-910c-4ef5-9b96-967470dd5514",
   "metadata": {},
   "outputs": [],
   "source": [
    "location_ids = [l[\"id\"] for l in json.loads(response)['features']]\n",
    "random_location_id = location_ids[random.randint(0, len(location_ids)-1)]\n",
    "query = f\"{host}/collections/{random_collection_id}/locations/{random_location_id}\"\n",
    "response = requests.get(query).content\n",
    "\n",
    "print(f\"{location_ids}\\n\")\n",
    "print(response)"
   ]
  },
  {
   "cell_type": "markdown",
   "id": "e68cb0be-37c4-40b1-a8a6-5276c98e39cf",
   "metadata": {},
   "source": [
    "### Items\n",
    "\n",
    "Check we can query an individual location for its list of items. This should return a JSON object of type `FeatureCollection` containing one or more individual items."
   ]
  },
  {
   "cell_type": "code",
   "execution_count": null,
   "id": "a5f71c84-60ae-4455-9561-e44ded04ac14",
   "metadata": {},
   "outputs": [],
   "source": [
    "query = f\"{host}/collections/{random_collection_id}/items\"\n",
    "response = requests.get(query).content\n",
    "\n",
    "print(response)"
   ]
  },
  {
   "cell_type": "markdown",
   "id": "019d3580-ea52-4772-b87c-6d5793b48855",
   "metadata": {},
   "source": [
    "### Individual Item\n",
    "\n",
    "Check we can make a data request to get data values that describe a single item, selected specifically from the dummy dataset for the sake of simplicity. The response should be data-containing (coverage)JSON of type `TiledNdArray`."
   ]
  },
  {
   "cell_type": "code",
   "execution_count": null,
   "id": "eaad4831-8c1c-4dd3-b851-3afd2730aca9",
   "metadata": {},
   "outputs": [],
   "source": [
    "query = f\"{host}/collections/00002/items/Parameter 4_0_0\"\n",
    "response = requests.get(query).content\n",
    "\n",
    "print(response)"
   ]
  },
  {
   "cell_type": "markdown",
   "id": "7ad4d2ef-a899-49ef-9546-a4be778fd0a1",
   "metadata": {},
   "source": [
    "### Area\n",
    "\n",
    "Check we can make a query to return data within a certain area. Note that this can mean either:\n",
    "* \"return the features that intersect with the area\", or\n",
    "* \"return the data values for all features that are contained within the area\"\n",
    "\n",
    "The choice on how to implement this is left to the data interface. In the case of the dummy dataset, the first option is chosen. This should return a JSON response of type `Domain` containing one or more features that intersect with the polygon."
   ]
  },
  {
   "cell_type": "code",
   "execution_count": null,
   "id": "5d3e56a8-4953-444e-8bfa-678e9c8604be",
   "metadata": {},
   "outputs": [],
   "source": [
    "polygon = Polygon([(-0.9, 51.2), (0.3, 51.2), (0.3, 51.7), (-0.9, 51.7), (-0.9, 51.2)])\n",
    "query_str = f\"coords={wkt.dumps(polygon)}\"\n",
    "query = f\"{host}/collections/00004/area?{query_str}\"\n",
    "response = requests.get(query).content\n",
    "\n",
    "print(response)"
   ]
  },
  {
   "cell_type": "markdown",
   "id": "2258bea9-4e0f-4b59-b3f7-bb96c60651d9",
   "metadata": {},
   "source": [
    "### Radius\n",
    "\n",
    "The radius query is identical in intention and response to the area query, other than that the polygon is defined as a circle with a defined radius from a point."
   ]
  },
  {
   "cell_type": "code",
   "execution_count": null,
   "id": "fa1fd2c7-edc8-4367-a1f3-836f9b457758",
   "metadata": {},
   "outputs": [],
   "source": [
    "point = Point(-0.2, 51.5)\n",
    "within = 25\n",
    "query_str = f\"coords={wkt.dumps(point)}&within={within}&within_units=km\"\n",
    "query = f\"{host}/collections/00005/radius?{query_str}\"\n",
    "response = requests.get(query).content\n",
    "\n",
    "print(response)"
   ]
  },
  {
   "cell_type": "markdown",
   "id": "60a01f03-8225-444e-be09-69e45c22f6eb",
   "metadata": {},
   "source": [
    "### Position\n",
    "\n",
    "The position query is similar to radius and area, but the coordinates may only be an individual point location, or a list of points (in a `MultiPoint` geometry). This should return a JSON response of type `Domain`. "
   ]
  },
  {
   "cell_type": "code",
   "execution_count": null,
   "id": "2035f9c3-e0db-4143-a289-b066443b3334",
   "metadata": {},
   "outputs": [],
   "source": [
    "point = Point(0.1, 51.5)\n",
    "query_str = f\"coords={wkt.dumps(point)}\"\n",
    "query = f\"{host}/collections/00005/position?{query_str}\"\n",
    "response = requests.get(query).content\n",
    "\n",
    "print(response)"
   ]
  }
 ],
 "metadata": {
  "kernelspec": {
   "display_name": "Python 3 (ipykernel)",
   "language": "python",
   "name": "python3"
  },
  "language_info": {
   "codemirror_mode": {
    "name": "ipython",
    "version": 3
   },
   "file_extension": ".py",
   "mimetype": "text/x-python",
   "name": "python",
   "nbconvert_exporter": "python",
   "pygments_lexer": "ipython3",
   "version": "3.8.12"
  }
 },
 "nbformat": 4,
 "nbformat_minor": 5
}
